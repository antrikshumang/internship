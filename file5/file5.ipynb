{
 "cells": [
  {
   "cell_type": "code",
   "execution_count": 12,
   "id": "f8d1696d",
   "metadata": {},
   "outputs": [
    {
     "name": "stdout",
     "output_type": "stream",
     "text": [
      "Enter a string: Hello123\n",
      "The string contains only a-z, A-Z, and 0-9.\n"
     ]
    }
   ],
   "source": [
    "##Question 1: Python program to check that a string contains only a certain set of characters (in this case a-z, A-Z, and 0-9)##\n",
    "\n",
    " \n",
    "import re\n",
    "\n",
    "def check_string_characters(input_string):\n",
    "    pattern = r'^[a-zA-Z0-9]+$'\n",
    "    return bool(re.match(pattern, input_string))\n",
    "\n",
    "if __name__ == \"__main__\":\n",
    "    input_string = input(\"Enter a string: \")\n",
    "    if check_string_characters(input_string):\n",
    "        print(\"The string contains only a-z, A-Z, and 0-9.\")\n",
    "    else:\n",
    "        print(\"The string contains characters other than a-z, A-Z, and 0-9.\")\n",
    " "
   ]
  },
  {
   "cell_type": "code",
   "execution_count": 13,
   "id": "2dda939f",
   "metadata": {},
   "outputs": [
    {
     "name": "stdout",
     "output_type": "stream",
     "text": [
      "Enter a string: abbbbbbbb\n",
      "Pattern matched!\n"
     ]
    }
   ],
   "source": [
    "\n",
    "##Question 2: Python function to match a string that has an 'a' followed by zero or more 'b's##\n",
    "\n",
    "  \n",
    "import re\n",
    "\n",
    "def match_zero_or_more_b(input_string):\n",
    "    pattern = r'ab*'\n",
    "    return bool(re.fullmatch(pattern, input_string))\n",
    "\n",
    "if __name__ == \"__main__\":\n",
    "    input_string = input(\"Enter a string: \")\n",
    "    if match_zero_or_more_b(input_string):\n",
    "        print(\"Pattern matched!\")\n",
    "    else:\n",
    "        \n",
    "        \n",
    "        print(\"Pattern not matched.\")\n",
    " "
   ]
  },
  {
   "cell_type": "code",
   "execution_count": 14,
   "id": "7634dc96",
   "metadata": {},
   "outputs": [
    {
     "name": "stdout",
     "output_type": "stream",
     "text": [
      "Enter a string: abb\n",
      "Pattern matched!\n"
     ]
    }
   ],
   "source": [
    "\n",
    "\n",
    "##Question 3: Python function to match a string that has an 'a' followed by one or more 'b's##\n",
    "\n",
    "  \n",
    "import re\n",
    "\n",
    "def match_one_or_more_b(input_string):\n",
    "    pattern = r'ab+'\n",
    "    return bool(re.fullmatch(pattern, input_string))\n",
    "\n",
    "if __name__ == \"__main__\":\n",
    "    input_string = input(\"Enter a string: \")\n",
    "    if match_one_or_more_b(input_string):\n",
    "        print(\"Pattern matched!\")\n",
    "    else:\n",
    "        print(\"Pattern not matched.\")\n",
    " "
   ]
  },
  {
   "cell_type": "code",
   "execution_count": 15,
   "id": "0be81535",
   "metadata": {},
   "outputs": [
    {
     "name": "stdout",
     "output_type": "stream",
     "text": [
      "Enter a string: ab\n",
      "Pattern matched!\n"
     ]
    }
   ],
   "source": [
    "##Question 4: Python function using RegEx to match a string that has an 'a' followed by zero or one 'b'##\n",
    "\n",
    "  \n",
    "import re\n",
    "\n",
    "def match_zero_or_one_b(input_string):\n",
    "    pattern = r'ab?'\n",
    "    return bool(re.fullmatch(pattern, input_string))\n",
    "\n",
    "if __name__ == \"__main__\":\n",
    "    input_string = input(\"Enter a string: \")\n",
    "    if match_zero_or_one_b(input_string):\n",
    "        print(\"Pattern matched!\")\n",
    "    else:\n",
    "        print(\"Pattern not matched.\")\n",
    " "
   ]
  },
  {
   "cell_type": "code",
   "execution_count": 16,
   "id": "4779848a",
   "metadata": {},
   "outputs": [
    {
     "name": "stdout",
     "output_type": "stream",
     "text": [
      "Enter a string: abbb\n",
      "Pattern matched!\n"
     ]
    }
   ],
   "source": [
    "\n",
    "##Question 5: Python program to match a string that has an 'a' followed by three 'b's##\n",
    "\n",
    "  \n",
    "import re\n",
    "\n",
    "def match_three_b(input_string):\n",
    "    pattern = r'ab{3}'\n",
    "    return bool(re.search(pattern, input_string))\n",
    "\n",
    "if __name__ == \"__main__\":\n",
    "    input_string = input(\"Enter a string: \")\n",
    "    if match_three_b(input_string):\n",
    "        print(\"Pattern matched!\")\n",
    "    else:\n",
    "        print(\"Pattern not matched.\")\n",
    " \n"
   ]
  },
  {
   "cell_type": "code",
   "execution_count": 17,
   "id": "aeb2e419",
   "metadata": {},
   "outputs": [
    {
     "name": "stdout",
     "output_type": "stream",
     "text": [
      "['Importance', 'Of', 'Regular', 'Expressions', 'In', 'Python']\n"
     ]
    }
   ],
   "source": [
    "\n",
    "##Question 6: Python program using RegEx to split a string into uppercase letters##\n",
    "\n",
    "  \n",
    "import re\n",
    "\n",
    "def split_uppercase_letters(input_string):\n",
    "    words = re.findall(r'[A-Z][a-z]*', input_string)\n",
    "    return words\n",
    "\n",
    "if __name__ == \"__main__\":\n",
    "    sample_text = \"ImportanceOfRegularExpressionsInPython\"\n",
    "    result = split_uppercase_letters(sample_text)\n",
    "    print(result)\n",
    " \n"
   ]
  },
  {
   "cell_type": "code",
   "execution_count": 18,
   "id": "7601c261",
   "metadata": {},
   "outputs": [
    {
     "name": "stdout",
     "output_type": "stream",
     "text": [
      "Enter a string: abbb\n",
      "Pattern matched!\n"
     ]
    }
   ],
   "source": [
    "\n",
    "##Question 7: Python program to match a string that has an 'a' followed by two to three 'b's##\n",
    "\n",
    "  \n",
    "import re\n",
    "\n",
    "def match_two_to_three_b(input_string):\n",
    "    pattern = r'ab{2,3}'\n",
    "    return bool(re.search(pattern, input_string))\n",
    "\n",
    "if __name__ == \"__main__\":\n",
    "    input_string = input(\"Enter a string: \")\n",
    "    if match_two_to_three_b(input_string):\n",
    "        print(\"Pattern matched!\")\n",
    "    else:\n",
    "        print(\"Pattern not matched.\")\n",
    " \n"
   ]
  },
  {
   "cell_type": "code",
   "execution_count": 20,
   "id": "d92a6c28",
   "metadata": {},
   "outputs": [
    {
     "name": "stdout",
     "output_type": "stream",
     "text": [
      "Enter a string: hello_world\n",
      "Sequences of lowercase letters joined with an underscore:\n",
      "['hello_world']\n"
     ]
    }
   ],
   "source": [
    "##Question 8: Python program to find sequences of lowercase letters joined with an underscore##\n",
    "\n",
    "  \n",
    "import re\n",
    "\n",
    "def find_lowercase_sequences(input_string):\n",
    "    pattern = r'[a-z]+_[a-z]+'\n",
    "    return re.findall(pattern, input_string)\n",
    "\n",
    "if __name__ == \"__main__\":\n",
    "    input_string = input(\"Enter a string: \")\n",
    "    result = find_lowercase_sequences(input_string)\n",
    "    if result:\n",
    "        print(\"Sequences of lowercase letters joined with an underscore:\")\n",
    "        print(result)\n",
    "    else:\n",
    "        print(\"No sequences found.\")\n",
    " \n",
    "\n"
   ]
  },
  {
   "cell_type": "code",
   "execution_count": 21,
   "id": "f0148428",
   "metadata": {},
   "outputs": [
    {
     "name": "stdout",
     "output_type": "stream",
     "text": [
      "Enter a string: abbbb\n",
      "Pattern matched!\n"
     ]
    }
   ],
   "source": [
    "##Question 9: Python program to match a string that has an 'a' followed by anything, ending in 'b'##\n",
    "\n",
    "  \n",
    "import re\n",
    "\n",
    "def match_a_followed_by_anything_b(input_string):\n",
    "    pattern = r'a.*b$'\n",
    "    return bool(re.match(pattern, input_string))\n",
    "\n",
    "if __name__ == \"__main__\":\n",
    "    input_string = input(\"Enter a string: \")\n",
    "    if match_a_followed_by_anything_b(input_string):\n",
    "        print(\"Pattern matched!\")\n",
    "    else:\n",
    "        print(\"Pattern not matched.\")\n",
    " \n"
   ]
  },
  {
   "cell_type": "code",
   "execution_count": null,
   "id": "93ea28b2",
   "metadata": {},
   "outputs": [],
   "source": [
    "\n",
    "##Question 10: Python program to match a word at the beginning of a string##\n",
    "\n",
    "  \n",
    "import re\n",
    "\n",
    "def match_word_at_beginning(input_string):\n",
    "    pattern = r'^\\w+'\n",
    "    return re.findall(pattern, input_string)\n",
    "\n",
    "if __name__ == \"__main__\":\n",
    "    input_string = input(\"Enter a string: \")\n",
    "    result = match_word_at_beginning(input_string)\n",
    "    if result:\n",
    "        print(\"Word at the beginning of the string:\")\n",
    "        print(result[0])\n",
    "    else:\n",
    "        print(\"No word found at the beginning.\")\n",
    " \n"
   ]
  },
  {
   "cell_type": "code",
   "execution_count": 22,
   "id": "eb1b411b",
   "metadata": {},
   "outputs": [
    {
     "name": "stdout",
     "output_type": "stream",
     "text": [
      "Enter a string: HEllo world\n",
      "The string contains characters other than upper and lowercase letters, numbers, and underscores.\n"
     ]
    }
   ],
   "source": [
    "\n",
    "##Question 11: Python program to match a string that contains only upper and lowercase letters, numbers, and underscores##\n",
    "\n",
    "  \n",
    "import re\n",
    "\n",
    "def match_alphanumeric_underscore(input_string):\n",
    "    pattern = r'^[a-zA-Z0-9_]+$'\n",
    "    return bool(re.match(pattern, input_string))\n",
    "\n",
    "if __name__ == \"__main__\":\n",
    "    input_string = input(\"Enter a string: \")\n",
    "    if match_alphanumeric_underscore(input_string):\n",
    "        print(\"The string contains only upper and lowercase letters, numbers, and underscores.\")\n",
    "    else:\n",
    "        print(\"The string contains characters other than upper and lowercase letters, numbers, and underscores.\")\n",
    " \n",
    "\n",
    "\n"
   ]
  },
  {
   "cell_type": "code",
   "execution_count": 24,
   "id": "d2c1f4df",
   "metadata": {},
   "outputs": [
    {
     "name": "stdout",
     "output_type": "stream",
     "text": [
      "Enter a string: 123_esss\n",
      "Enter the specific number: 1\n",
      "The string starts with the specific number.\n"
     ]
    }
   ],
   "source": [
    "\n",
    "##Question 12: Python program where a string will start with a specific number##\n",
    "\n",
    "  \n",
    "import re\n",
    "\n",
    "def string_starts_with_number(input_string, number):\n",
    "    pattern = f'^{number}'\n",
    "    return bool(re.match(pattern, input_string))\n",
    "\n",
    "if __name__ == \"__main__\":\n",
    "    input_string = input(\"Enter a string: \")\n",
    "    specific_number = input(\"Enter the specific number: \")\n",
    "    if string_starts_with_number(input_string, specific_number):\n",
    "        print(\"The string starts with the specific number.\")\n",
    "    else:\n",
    "        print(\"The string does not start with the specific number.\")\n",
    " \n",
    "\n"
   ]
  },
  {
   "cell_type": "code",
   "execution_count": 26,
   "id": "bec02b65",
   "metadata": {},
   "outputs": [
    {
     "name": "stdout",
     "output_type": "stream",
     "text": [
      "Enter an IP address: 323:012:212:33\n",
      "IP address with leading zeros removed: 323:12:212:33\n"
     ]
    }
   ],
   "source": [
    "\n",
    "##Question 13: Python program to remove leading zeros from an IP address##\n",
    "\n",
    "  \n",
    "import re\n",
    "\n",
    "def remove_leading_zeros(ip_address):\n",
    "    pattern = r'\\b0+(\\d+)'\n",
    "    return re.sub(pattern, r'\\1', ip_address)\n",
    "\n",
    "if __name__ == \"__main__\":\n",
    "    input_ip = input(\"Enter an IP address: \")\n",
    "    output_ip = remove_leading_zeros(input_ip)\n",
    "    print(f\"IP address with leading zeros removed: {output_ip}\")\n",
    " "
   ]
  },
  {
   "cell_type": "code",
   "execution_count": 57,
   "id": "0dd444f6",
   "metadata": {},
   "outputs": [
    {
     "name": "stdout",
     "output_type": "stream",
     "text": [
      "Output: August 15th 1947\n"
     ]
    }
   ],
   "source": [
    "#Question 14- Write a regular expression in python to match a date string in the form of Month name followed by day number and year stored in a text file.\n",
    "# Sample text : ' On August 15th 1947 that India was declared independent from British colonialism, and the reins of control were handed over to the leaders of the Country’.\n",
    "# Output- August 15th 1947\n",
    "# Hint- Use re.match() method here\n",
    "import re\n",
    "\n",
    "def extract_date_from_text(text):\n",
    "    pattern = r'\\b(?:January|February|March|April|May|June|July|August|September|October|November|December)\\s\\d{1,2}(?:st|nd|rd|th)?\\s\\d{4}\\b'\n",
    "    match = re.search(pattern, text)\n",
    "    if match:\n",
    "        return match.group()\n",
    "    else:\n",
    "        return None\n",
    "\n",
    "if __name__ == \"__main__\":\n",
    "    text = \"On August 15th 1947 that India was declared independent from British colonialism, and the reins of control were handed over to the leaders of the Country.\"\n",
    "\n",
    "    date = extract_date_from_text(text)\n",
    "\n",
    "    if date:\n",
    "        print(\"Output:\", date)\n",
    "    else:\n",
    "        print(\"No date found in the given text.\")\n"
   ]
  },
  {
   "cell_type": "code",
   "execution_count": 29,
   "id": "c22b3b5e",
   "metadata": {},
   "outputs": [
    {
     "name": "stdout",
     "output_type": "stream",
     "text": [
      "'fox' found in the string.\n",
      "'dog' found in the string.\n",
      "'horse' not found in the string.\n"
     ]
    }
   ],
   "source": [
    "\n",
    "##Question 15: Python program to search some literal strings in a string##\n",
    "\n",
    "  \n",
    "import re\n",
    "\n",
    "def search_literals_in_string(input_string, searched_words):\n",
    "    for word in searched_words:\n",
    "        if re.search(word, input_string):\n",
    "            print(f\"'{word}' found in the string.\")\n",
    "        else:\n",
    "            print(f\"'{word}' not found in the string.\")\n",
    "\n",
    "if __name__ == \"__main__\":\n",
    "    sample_text = 'The quick brown fox jumps over the lazy dog.'\n",
    "    words_to_search = ['fox', 'dog', 'horse']\n",
    "    search_literals_in_string(sample_text, words_to_search)\n",
    " "
   ]
  },
  {
   "cell_type": "code",
   "execution_count": 30,
   "id": "7ea89df1",
   "metadata": {},
   "outputs": [
    {
     "name": "stdout",
     "output_type": "stream",
     "text": [
      "'fox' found at index 16.\n"
     ]
    }
   ],
   "source": [
    "\n",
    "\n",
    "##Question 16: Python program to search a literal string in a string and find the location within the original string where the pattern occurs##\n",
    "\n",
    "  \n",
    "import re\n",
    "\n",
    "def find_pattern_location(input_string, searched_word):\n",
    "    pattern = re.compile(searched_word)\n",
    "    matches = pattern.finditer(input_string)\n",
    "    for match in matches:\n",
    "        print(f\"'{searched_word}' found at index {match.start()}.\")\n",
    "\n",
    "if __name__ == \"__main__\":\n",
    "    sample_text = 'The quick brown fox jumps over the lazy dog.'\n",
    "    searched_word = 'fox'\n",
    "    find_pattern_location(sample_text, searched_word)\n",
    " "
   ]
  },
  {
   "cell_type": "code",
   "execution_count": 31,
   "id": "8c7a5010",
   "metadata": {},
   "outputs": [
    {
     "name": "stdout",
     "output_type": "stream",
     "text": [
      "Substrings found:\n",
      "['exercises', 'exercises', 'exercises']\n"
     ]
    }
   ],
   "source": [
    "\n",
    "##Question 17: Python program to find the substrings within a string##\n",
    "\n",
    "  \n",
    "import re\n",
    "\n",
    "def find_substrings(input_string, pattern):\n",
    "    return re.findall(pattern, input_string)\n",
    "\n",
    "if __name__ == \"__main__\":\n",
    "    sample_text = 'Python exercises, PHP exercises, C# exercises'\n",
    "    pattern_to_find = 'exercises'\n",
    "    substrings = find_substrings(sample_text, pattern_to_find)\n",
    "    print(\"Substrings found:\")\n",
    "    print(substrings)\n",
    " \n",
    "\n"
   ]
  },
  {
   "cell_type": "code",
   "execution_count": 32,
   "id": "cc4d0950",
   "metadata": {},
   "outputs": [
    {
     "name": "stdout",
     "output_type": "stream",
     "text": [
      "Enter the string: ababbabbab\n",
      "Enter the substring to find: ab\n",
      "Occurrences and positions of the substring:\n",
      "Substring 'ab' found at position: 0\n",
      "Substring 'ab' found at position: 2\n",
      "Substring 'ab' found at position: 5\n",
      "Substring 'ab' found at position: 8\n"
     ]
    }
   ],
   "source": [
    "\n",
    "##Question 18: Python program to find the occurrence and position of substrings within a string##\n",
    "\n",
    "  \n",
    "import re\n",
    "\n",
    "def find_substring_occurrences(input_string, substring):\n",
    "    occurrences = []\n",
    "    index = -1\n",
    "\n",
    "    while True:\n",
    "        index = input_string.find(substring, index + 1)\n",
    "        if index == -1:\n",
    "            break\n",
    "        occurrences.append((substring, index))\n",
    "\n",
    "    return occurrences\n",
    "\n",
    "if __name__ == \"__main__\":\n",
    "    input_string = input(\"Enter the string: \")\n",
    "    input_substring = input(\"Enter the substring to find: \")\n",
    "\n",
    "    occurrences = find_substring_occurrences(input_string, input_substring)\n",
    "\n",
    "    if occurrences:\n",
    "        print(\"Occurrences and positions of the substring:\")\n",
    "        for substring, position in occurrences:\n",
    "            print(f\"Substring '{substring}' found at position: {position}\")\n",
    "    else:\n",
    "        print(\"Substring not found in the given string.\")\n",
    " \n"
   ]
  },
  {
   "cell_type": "code",
   "execution_count": 33,
   "id": "c3bb73af",
   "metadata": {},
   "outputs": [
    {
     "name": "stdout",
     "output_type": "stream",
     "text": [
      "Enter the date in yyyy-mm-dd format: 2023-07-16\n",
      "The converted date is: 16-07-2023\n"
     ]
    }
   ],
   "source": [
    "\n",
    "\n",
    "##Question 19: Python program to convert a date of yyyy-mm-dd format to dd-mm-yyyy format##\n",
    "\n",
    "  \n",
    "import re\n",
    "\n",
    "def convert_date_format(input_date):\n",
    "    pattern = r'(\\d{4})-(\\d{2})-(\\d{2})'\n",
    "    result = re.sub(pattern, r'\\3-\\2-\\1', input_date)\n",
    "    return result\n",
    "\n",
    "if __name__ == \"__main__\":\n",
    "    input_date = input(\"Enter the date in yyyy-mm-dd format: \")\n",
    "    output_date = convert_date_format(input_date)\n",
    "    print(f\"The converted date is: {output_date}\")\n",
    " \n"
   ]
  },
  {
   "cell_type": "code",
   "execution_count": 35,
   "id": "644a249d",
   "metadata": {},
   "outputs": [
    {
     "name": "stdout",
     "output_type": "stream",
     "text": [
      "Enter the string:  Apple and orange are fruits eod.\n",
      "Words starting with 'a' or 'e':\n",
      "Apple\n",
      "and\n",
      "are\n",
      "eod\n"
     ]
    }
   ],
   "source": [
    "\n",
    "##Question 20: Python program to find all words starting with 'a' or 'e' in a given string##\n",
    "\n",
    "  \n",
    "import re\n",
    "\n",
    "def find_words_starting_with_a_or_e(input_string):\n",
    "    words = re.findall(r'\\b[aeAE]\\w+', input_string)\n",
    "    return words\n",
    "\n",
    "if __name__ == \"__main__\":\n",
    "    input_string = input(\"Enter the string: \")\n",
    "    words_list = find_words_starting_with_a_or_e(input_string)\n",
    "\n",
    "    if words_list:\n",
    "        print(\"Words starting with 'a' or 'e':\")\n",
    "        for word in words_list:\n",
    "            print(word)\n",
    "    else:\n",
    "        print(\"No words found starting with 'a' or 'e' in the given string.\")\n",
    " \n"
   ]
  },
  {
   "cell_type": "code",
   "execution_count": 37,
   "id": "cf4d1101",
   "metadata": {},
   "outputs": [
    {
     "name": "stdout",
     "output_type": "stream",
     "text": [
      "Enter a string: dawd3234dsssf\n",
      "Numbers and their positions:\n",
      "Number: 3234, Position: 4\n"
     ]
    }
   ],
   "source": [
    "##Question 21: Python program to separate and print the numbers and their positions of a given string##\n",
    "\n",
    "  \n",
    "import re\n",
    "\n",
    "def separate_numbers_and_positions(input_string):\n",
    "    numbers_with_positions = []\n",
    "    pattern = r'\\d+'\n",
    "    for match in re.finditer(pattern, input_string):\n",
    "        number = match.group()\n",
    "        position = match.start()\n",
    "        numbers_with_positions.append((number, position))\n",
    "    return numbers_with_positions\n",
    "\n",
    "if __name__ == \"__main__\":\n",
    "    input_string = input(\"Enter a string: \")\n",
    "    numbers_positions = separate_numbers_and_positions(input_string)\n",
    "    print(\"Numbers and their positions:\")\n",
    "    for number, position in numbers_positions:\n",
    "        print(f\"Number: {number}, Position: {position}\")\n",
    " \n",
    "\n"
   ]
  },
  {
   "cell_type": "code",
   "execution_count": 38,
   "id": "9075f152",
   "metadata": {},
   "outputs": [
    {
     "name": "stdout",
     "output_type": "stream",
     "text": [
      "Modified text:\n",
      "Importance Of Regular Expressions In Python\n"
     ]
    }
   ],
   "source": [
    "\n",
    "##Question 23: Regex in Python to put spaces between words starting with capital letters##\n",
    "\n",
    "  \n",
    "import re\n",
    "\n",
    "def insert_spaces_between_capital_words(input_string):\n",
    "    pattern = r'(?<=[a-z])(?=[A-Z])'\n",
    "    return re.sub(pattern, ' ', input_string)\n",
    "\n",
    "if __name__ == \"__main__\":\n",
    "    sample_text = \"ImportanceOfRegularExpressionsInPython\"\n",
    "    output_text = insert_spaces_between_capital_words(sample_text)\n",
    "    print(\"Modified text:\")\n",
    "    print(output_text)\n",
    " \n",
    "\n"
   ]
  },
  {
   "cell_type": "code",
   "execution_count": 40,
   "id": "a6968e71",
   "metadata": {},
   "outputs": [
    {
     "name": "stdout",
     "output_type": "stream",
     "text": [
      "Enter a string: HelloWorldInThisString\n",
      "Sequences of one uppercase letter followed by lowercase letters:\n",
      "['Hello', 'World', 'In', 'This', 'String']\n"
     ]
    }
   ],
   "source": [
    "\n",
    "##Question 24: Python regex to find sequences of one uppercase letter followed by lowercase letters##\n",
    "\n",
    "  \n",
    "import re\n",
    "\n",
    "def find_uppercase_lowercase_sequences(input_string):\n",
    "    pattern = r'[A-Z][a-z]+'\n",
    "    return re.findall(pattern, input_string)\n",
    "\n",
    "if __name__ == \"__main__\":\n",
    "    input_string = input(\"Enter a string: \")\n",
    "    sequences = find_uppercase_lowercase_sequences(input_string)\n",
    "    print(\"Sequences of one uppercase letter followed by lowercase letters:\")\n",
    "    print(sequences)\n",
    " \n",
    "\n"
   ]
  },
  {
   "cell_type": "code",
   "execution_count": 41,
   "id": "a68ab3bb",
   "metadata": {},
   "outputs": [
    {
     "name": "stdout",
     "output_type": "stream",
     "text": [
      "Enter a sentence: Python is great and Python is easy to learn.\n",
      "Sentence with duplicate words removed:\n",
      "great and Python is easy to learn.\n"
     ]
    }
   ],
   "source": [
    "\n",
    "##Question 25: Python program to remove duplicate words from a sentence using Regular Expression##\n",
    "\n",
    "  \n",
    "import re\n",
    "\n",
    "def remove_duplicate_words(input_sentence):\n",
    "    pattern = r'\\b(\\w+)\\b\\s+(?=.*\\b\\1\\b)'\n",
    "    return re.sub(pattern, '', input_sentence)\n",
    "\n",
    "if __name__ == \"__main__\":\n",
    "    input_sentence = input(\"Enter a sentence: \")\n",
    "    output_sentence = remove_duplicate_words(input_sentence)\n",
    "    print(\"Sentence with duplicate words removed:\")\n",
    "    print(output_sentence)\n",
    " \n",
    "\n"
   ]
  },
  {
   "cell_type": "code",
   "execution_count": 42,
   "id": "9b5a2e1f",
   "metadata": {},
   "outputs": [
    {
     "name": "stdout",
     "output_type": "stream",
     "text": [
      "Enter a string: Hello123\n",
      "The string ends with an alphanumeric character.\n"
     ]
    }
   ],
   "source": [
    "##Question 26: Python program using RegEx to accept a string ending with an alphanumeric character##\n",
    "\n",
    "  \n",
    "import re\n",
    "\n",
    "def string_ends_with_alphanumeric(input_string\n",
    "\n",
    "):\n",
    "    pattern = r'^.*[a-zA-Z0-9]$'\n",
    "    return bool(re.match(pattern, input_string))\n",
    "\n",
    "if __name__ == \"__main__\":\n",
    "    input_string = input(\"Enter a string: \")\n",
    "    if string_ends_with_alphanumeric(input_string):\n",
    "        print(\"The string ends with an alphanumeric character.\")\n",
    "    else:\n",
    "        print(\"The string does not end with an alphanumeric character.\")\n",
    " "
   ]
  },
  {
   "cell_type": "code",
   "execution_count": 43,
   "id": "2aa3a6d9",
   "metadata": {},
   "outputs": [
    {
     "name": "stdout",
     "output_type": "stream",
     "text": [
      "Hashtags extracted from the text:\n",
      "['#Doltiwal', '#xyzabc', '#Demonetization']\n"
     ]
    }
   ],
   "source": [
    "\n",
    "##Question 27: Python program using RegEx to extract the hashtags##\n",
    "\n",
    "  \n",
    "import re\n",
    "\n",
    "def extract_hashtags(input_text):\n",
    "    hashtags = re.findall(r'#\\w+', input_text)\n",
    "    return hashtags\n",
    "\n",
    "if __name__ == \"__main__\":\n",
    "    text = \"\"\"RT @kapil_kausik: #Doltiwal I mean #xyzabc is \"hurt\" by #Demonetization as the same has rendered USELESS <ed><U+00A0><U+00BD><ed><U+00B1><U+0089> \"acquired funds\" No wo\"\"\"\n",
    "    hashtags = extract_hashtags(text)\n",
    "    print(\"Hashtags extracted from the text:\")\n",
    "    print(hashtags)\n",
    " \n"
   ]
  },
  {
   "cell_type": "code",
   "execution_count": 44,
   "id": "1819d51a",
   "metadata": {},
   "outputs": [
    {
     "name": "stdout",
     "output_type": "stream",
     "text": [
      "Text with '<U+..>' like symbols removed:\n",
      "@Jags123456 Bharat band on 28??<ed><U+00A0><U+00BD><ed><U+00B8><U+0082>Those who  are protesting #demonetization  are all different party leaders\n"
     ]
    }
   ],
   "source": [
    "\n",
    "##Question 28: Python program using RegEx to remove `<U+..>` like symbols##\n",
    "\n",
    "  \n",
    "import re\n",
    "\n",
    "def remove_u_plus_symbols(input_text):\n",
    "    pattern = r'<U\\+\\w{2}>'\n",
    "    return re.sub(pattern, '', input_text)\n",
    "\n",
    "if __name__ == \"__main__\":\n",
    "    text = \"@Jags123456 Bharat band on 28??<ed><U+00A0><U+00BD><ed><U+00B8><U+0082>Those who  are protesting #demonetization  are all different party leaders\"\n",
    "    cleaned_text = remove_u_plus_symbols(text)\n",
    "    print(\"Text with '<U+..>' like symbols removed:\")\n",
    "    print(cleaned_text)\n",
    " \n"
   ]
  },
  {
   "cell_type": "code",
   "execution_count": 54,
   "id": "44200e7d",
   "metadata": {},
   "outputs": [
    {
     "name": "stdout",
     "output_type": "stream",
     "text": [
      "Dates found:\n",
      "August 15th 1947\n"
     ]
    }
   ],
   "source": [
    "##Question 29: Python program to extract dates from the text stored in a text file##\n",
    "\n",
    "import re\n",
    "\n",
    "def extract_dates_from_file(filename):\n",
    "    with open(filename, 'r') as file:\n",
    "        text = file.read()\n",
    "        pattern = r'\\b(?:January|February|March|April|May|June|July|August|September|October|November|December)\\s\\d{1,2}(?:st|nd|rd|th)?\\s\\d{4}\\b'\n",
    "        return re.findall(pattern, text)\n",
    "\n",
    "if __name__ == \"__main__\":\n",
    "    filename = \"dates.txt\"  # Replace with the path to your text file if it's not in the same directory as the script\n",
    "\n",
    "    dates = extract_dates_from_file(filename)\n",
    "\n",
    "    if dates:\n",
    "        print(\"Dates found:\")\n",
    "        for date in dates:\n",
    "            print(date)\n",
    "    else:\n",
    "        print(\"No dates found in the given text file.\")\n"
   ]
  },
  {
   "cell_type": "code",
   "execution_count": 50,
   "id": "a90884a7",
   "metadata": {},
   "outputs": [
    {
     "name": "stdout",
     "output_type": "stream",
     "text": [
      "Text with spaces, commas, and dots replaced by colons:\n",
      "Python:Exercises::PHP:exercises:\n"
     ]
    }
   ],
   "source": [
    "\n",
    "##Question 30: Python program to replace all occurrences of a space, comma, or dot with a colon##\n",
    "\n",
    "  \n",
    "import re\n",
    "\n",
    "def replace_space_comma_dot_with_colon(input_string):\n",
    "    pattern = r'[ ,.]'\n",
    "    return re.sub(pattern, ':', input_string)\n",
    "\n",
    "if __name__ == \"__main__\":\n",
    "    sample_text = 'Python Exercises, PHP exercises.'\n",
    "    output_text = replace_space_comma_dot_with_colon(sample_text)\n",
    "    print(\"Text with spaces, commas, and dots replaced by colons:\")\n",
    "    print(output_text)\n",
    " \n"
   ]
  },
  {
   "cell_type": "code",
   "execution_count": null,
   "id": "7f6ec3c8",
   "metadata": {},
   "outputs": [],
   "source": []
  }
 ],
 "metadata": {
  "kernelspec": {
   "display_name": "Python 3 (ipykernel)",
   "language": "python",
   "name": "python3"
  },
  "language_info": {
   "codemirror_mode": {
    "name": "ipython",
    "version": 3
   },
   "file_extension": ".py",
   "mimetype": "text/x-python",
   "name": "python",
   "nbconvert_exporter": "python",
   "pygments_lexer": "ipython3",
   "version": "3.9.7"
  }
 },
 "nbformat": 4,
 "nbformat_minor": 5
}
